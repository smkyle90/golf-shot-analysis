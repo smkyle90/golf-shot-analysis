{
 "cells": [
  {
   "cell_type": "code",
   "execution_count": 60,
   "id": "competitive-royalty",
   "metadata": {},
   "outputs": [],
   "source": [
    "%matplotlib widget\n",
    "from lib import get_tournament_list, get_season_list, ShotDistribution\n",
    "from ipywidgets import interactive\n",
    "import ipywidgets as widgets\n",
    "from IPython.display import display\n",
    "import math\n",
    "import numpy as np\n",
    "import matplotlib.pyplot as plt\n",
    "import plotly.graph_objects as go"
   ]
  },
  {
   "cell_type": "code",
   "execution_count": 66,
   "id": "pleasant-atlas",
   "metadata": {
    "scrolled": true
   },
   "outputs": [],
   "source": [
    "tourns = get_tournament_list()\n",
    "seasons = get_season_list()\n",
    "strokes=[1, 2, 3, 4, 5, 'all', 'drive', 'approach']\n",
    "scores=[None, 'sub', 'par', 'over', 1, 2, 3, 4, 5, 6, 7, 8, 'all']\n",
    "holes=[i+1 for i in range(18)]\n",
    "rounds=[1, 2, 3, 4, 'all']\n",
    "plt.ioff()\n",
    "fig = plt.figure(figsize=(6, 6), tight_layout=True)\n",
    "ax = fig.add_subplot(111)\n",
    "fig.canvas.toolbar_visible = True\n",
    "fig.canvas.header_visible = False # Hide the Figure name at the top of the figure\n",
    "fig.canvas.footer_visible = False\n",
    "fig.canvas.resizable = True\n",
    "fig.canvas.capture_scroll = False\n",
    "plt.ion()\n",
    "\n",
    "fig = go.Figure()\n",
    "fig.update_layout(\n",
    "    mapbox_style=\"white-bg\",\n",
    "    mapbox_layers=[\n",
    "        {\n",
    "            \"below\": 'traces',\n",
    "            \"sourcetype\": \"raster\",\n",
    "            \"sourceattribution\": \"United States Geological Survey\",\n",
    "            \"source\": [\n",
    "                \"https://basemap.nationalmap.gov/arcgis/rest/services/USGSImageryOnly/MapServer/tile/{z}/{y}/{x}\"\n",
    "            ]\n",
    "        },\n",
    "    ],\n",
    "    mapbox=dict(\n",
    "        center=go.layout.mapbox.Center(\n",
    "        lat=33.64,\n",
    "        lon=-111.912,\n",
    "        ),\n",
    "        zoom=16,\n",
    "    ),\n",
    "    margin={\"r\":0,\"t\":0,\"l\":0,\"b\":0},\n",
    ")\n",
    "\n",
    "s = ShotDistribution()"
   ]
  },
  {
   "cell_type": "code",
   "execution_count": 67,
   "id": "continuous-solution",
   "metadata": {},
   "outputs": [],
   "source": [
    "def get_tourn_data(Tournament, Season):\n",
    "    global s\n",
    "    try:\n",
    "        if Season == 'all':\n",
    "            s.generate_distribution(Tournament)\n",
    "        else:\n",
    "            s.generate_distribution(Tournament, Season)    \n",
    "    except Exception as e:\n",
    "        print(e)\n",
    "        \n",
    "#     return (Tournament, Season, s)\n",
    "\n",
    "tourn_data = interactive(get_tourn_data, Tournament=tourns, Season=seasons)"
   ]
  },
  {
   "cell_type": "code",
   "execution_count": 81,
   "id": "expanded-progressive",
   "metadata": {
    "scrolled": false
   },
   "outputs": [],
   "source": [
    "daily_out = widgets.Output(layout = {\n",
    "            'width': '100%',\n",
    "            'height': '600px',\n",
    "            'border': '1px solid black'\n",
    "        })\n",
    "\n",
    "def get_hole_data(Hole, Stroke, Round, Score1, Score2, Score3, Include_Shots, Include_Spray):\n",
    "    global ax\n",
    "    global fig\n",
    "#     ax.cla()\n",
    "    \n",
    "    with daily_out:\n",
    "        fig.data = []\n",
    "        try:\n",
    "            for score_val in [Score1, Score2, Score3]:\n",
    "                if Include_Shots:\n",
    "                    fig = s.plot_hole(fig, Hole, Stroke, score_val, Round)\n",
    "\n",
    "                if score_val is None:\n",
    "                    continue\n",
    "\n",
    "                fig = s.plot_hole_distribution(fig, Hole, Stroke, score_val, Round)\n",
    "                if Include_Spray:\n",
    "                    fig = s.plot_shot_distribution(fig, Hole, Stroke, score_val, Round) \n",
    "\n",
    "        except Exception as e:\n",
    "            print(e)\n",
    "        fig.layout.mapbox.center[\"lat\"] = s.as_df(Hole).lat.mean()\n",
    "        fig.layout.mapbox.center[\"lon\"] = s.as_df(Hole).lon.mean()\n",
    "        \n",
    "        daily_out.clear_output()\n",
    "        fig.show()\n",
    "#     ax.grid()\n",
    "#     ax.axis('equal')\n",
    "#     ax.layout('tight')\n",
    "#     return ax\n",
    "\n",
    "hole=widgets.Dropdown(\n",
    "    options=holes,\n",
    "    description='Hole:',\n",
    "    disabled=False,\n",
    ")\n",
    "\n",
    "score1=widgets.Dropdown(\n",
    "    options=scores,\n",
    "    description='Score 1:',\n",
    "    disabled=False,        \n",
    "    value=None,\n",
    ")\n",
    "\n",
    "score2=widgets.Dropdown(\n",
    "    options=scores,\n",
    "    description='Score 2:',\n",
    "    disabled=False,\n",
    "    value=None,\n",
    ")\n",
    "\n",
    "score3=widgets.Dropdown(\n",
    "    options=scores,\n",
    "    description='Score 3:',\n",
    "    disabled=True,\n",
    "    value=None,\n",
    ")\n",
    "stroke=widgets.Dropdown(\n",
    "    options=strokes,\n",
    "    description='Stroke:',\n",
    "    disabled=False,\n",
    ")\n",
    "\n",
    "t_round=widgets.Dropdown(\n",
    "    options=rounds,\n",
    "    description='Round:',\n",
    "    disabled=False,\n",
    ")\n",
    "\n",
    "inc_hole = widgets.Checkbox(\n",
    "    value=True,\n",
    "    description='Include Hole',\n",
    "    disabled=False\n",
    ")\n",
    "\n",
    "inc_spread = widgets.Checkbox(\n",
    "    value=False,\n",
    "    description='Include Spread',\n",
    "    disabled=False\n",
    ")\n",
    "\n",
    "hole_data = widgets.interactive_output(\n",
    "    get_hole_data, \n",
    "    {\n",
    "        \"Hole\": hole, \n",
    "        \"Stroke\": stroke, \n",
    "        \"Round\": t_round, \n",
    "        \"Score1\": score1, \n",
    "        \"Score2\": score2, \n",
    "        \"Score3\": score3, \n",
    "        \"Include_Shots\": inc_hole,\n",
    "        \"Include_Spray\": inc_spread,    \n",
    "    }\n",
    ")\n",
    "\n",
    "input_boxes = widgets.VBox([hole, stroke, t_round, score1, score2, score3, inc_hole, inc_spread]) \n",
    "# output = hole_data.children[-1]\n",
    "# output.layout.height = '1000px'"
   ]
  },
  {
   "cell_type": "markdown",
   "id": "swiss-correlation",
   "metadata": {},
   "source": [
    "### Tournament"
   ]
  },
  {
   "cell_type": "code",
   "execution_count": 83,
   "id": "crazy-therapist",
   "metadata": {},
   "outputs": [
    {
     "data": {
      "application/vnd.jupyter.widget-view+json": {
       "model_id": "83d068ebe8a6470ea3075eb2e2a9c1cc",
       "version_major": 2,
       "version_minor": 0
      },
      "text/plain": [
       "HBox(children=(Dropdown(description='Tournament', index=1, options=('CareerBuilder Challenge in partnership wi…"
      ]
     },
     "metadata": {},
     "output_type": "display_data"
    }
   ],
   "source": [
    "display(widgets.HBox(tourn_data.children[:-1]))"
   ]
  },
  {
   "cell_type": "markdown",
   "id": "hawaiian-bidder",
   "metadata": {},
   "source": [
    "### Data"
   ]
  },
  {
   "cell_type": "code",
   "execution_count": 84,
   "id": "animal-stroke",
   "metadata": {
    "scrolled": true
   },
   "outputs": [
    {
     "data": {
      "application/vnd.jupyter.widget-view+json": {
       "model_id": "0affe546d10748bda2c4612d778cd9c7",
       "version_major": 2,
       "version_minor": 0
      },
      "text/plain": [
       "HBox(children=(Output(layout=Layout(border='1px solid black', height='600px', width='100%'), outputs=({'output…"
      ]
     },
     "metadata": {},
     "output_type": "display_data"
    }
   ],
   "source": [
    "display(widgets.HBox([daily_out, input_boxes]))"
   ]
  },
  {
   "cell_type": "code",
   "execution_count": null,
   "id": "daily-viewer",
   "metadata": {},
   "outputs": [],
   "source": []
  }
 ],
 "metadata": {
  "kernelspec": {
   "display_name": "Python 3",
   "language": "python",
   "name": "python3"
  },
  "language_info": {
   "codemirror_mode": {
    "name": "ipython",
    "version": 3
   },
   "file_extension": ".py",
   "mimetype": "text/x-python",
   "name": "python",
   "nbconvert_exporter": "python",
   "pygments_lexer": "ipython3",
   "version": "3.8.7"
  }
 },
 "nbformat": 4,
 "nbformat_minor": 5
}
