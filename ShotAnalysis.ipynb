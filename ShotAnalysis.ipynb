{
 "cells": [
  {
   "cell_type": "code",
   "execution_count": 1,
   "id": "competitive-royalty",
   "metadata": {},
   "outputs": [],
   "source": [
    "%matplotlib widget\n",
    "from lib import get_tournament_list, get_season_list, ShotDistribution\n",
    "import ipywidgets as widgets\n",
    "from IPython.display import display\n",
    "import numpy as np\n",
    "import matplotlib.pyplot as plt\n",
    "import plotly.graph_objects as go\n",
    "import yaml\n",
    "import pandas as pd\n",
    "\n",
    "with open(\"./configs/course_coords.yml\", \"r\") as f:\n",
    "    course_points = yaml.safe_load(f)"
   ]
  },
  {
   "cell_type": "code",
   "execution_count": 2,
   "id": "pleasant-atlas",
   "metadata": {
    "scrolled": true
   },
   "outputs": [],
   "source": [
    "tourns = get_tournament_list()\n",
    "seasons = get_season_list()\n",
    "strokes=[1, 2, 3, 4, 5, 'all', 'drive', 'approach']\n",
    "scores=[None, 'sub', 'par', 'over', 1, 2, 3, 4, 5, 6, 7, 8, 'all']\n",
    "holes=[i+1 for i in range(18)]\n",
    "rounds=[1, 2, 3, 4, 'all']\n",
    "flags=[1, 2, 3, 4, 'all']\n",
    "\n",
    "plt.ioff()\n",
    "mpl = plt.figure(tight_layout=True)\n",
    "ax = mpl.add_subplot(111)\n",
    "mpl.canvas.toolbar_visible = True\n",
    "mpl.canvas.header_visible = False # Hide the Figure name at the top of the figure\n",
    "mpl.canvas.footer_visible = False\n",
    "mpl.canvas.resizable = True\n",
    "mpl.canvas.capture_scroll = False\n",
    "plt.ion()\n",
    "\n",
    "pty = go.Figure()\n",
    "pty.update_layout(\n",
    "    mapbox_style=\"white-bg\",\n",
    "    mapbox_layers=[\n",
    "        {\n",
    "            \"below\": 'traces',\n",
    "            \"sourcetype\": \"raster\",\n",
    "            \"sourceattribution\": \"United States Geological Survey\",\n",
    "            \"source\": [\n",
    "                \"https://basemap.nationalmap.gov/arcgis/rest/services/USGSImageryOnly/MapServer/tile/{z}/{y}/{x}\"\n",
    "            ]\n",
    "        },\n",
    "    ],\n",
    "    mapbox=dict(\n",
    "        center=go.layout.mapbox.Center(\n",
    "        lat=33.64,\n",
    "        lon=-111.912,\n",
    "        ),\n",
    "        zoom=16,\n",
    "    ),\n",
    "    margin={\"r\":0,\"t\":0,\"l\":0,\"b\":0},\n",
    ")\n",
    "\n",
    "s = ShotDistribution()\n",
    "use_plotly = False"
   ]
  },
  {
   "cell_type": "code",
   "execution_count": 3,
   "id": "continuous-solution",
   "metadata": {},
   "outputs": [],
   "source": [
    "def get_tourn_data(Tournament, Season):\n",
    "    global s, use_plotly, quick_render\n",
    "    try:\n",
    "        if Season == 'all':\n",
    "            s.generate_distribution(Tournament, course_points[\"COURSE_POINTS\"])\n",
    "        else:\n",
    "            s.generate_distribution(Tournament, course_points[\"COURSE_POINTS\"], Season)\n",
    "        use_plotly=True\n",
    "        quick_render.value = True\n",
    "        quick_render.disabled = False\n",
    "    except Exception as e:\n",
    "        print(e)\n",
    "        print(\"Entering calibration mode.\")\n",
    "        s.generate_distribution(Tournament)\n",
    "        quick_render.value = True\n",
    "        quick_render.disabled = True\n",
    "        \n",
    "tourn_data = widgets.interactive(get_tourn_data, Tournament=tourns, Season=seasons)"
   ]
  },
  {
   "cell_type": "code",
   "execution_count": 13,
   "id": "expanded-progressive",
   "metadata": {
    "scrolled": false
   },
   "outputs": [],
   "source": [
    "graph_out = widgets.Output(layout = {\n",
    "            'width': '80%',\n",
    "            'height': '600px',\n",
    "            'border': '1px solid black'\n",
    "        })\n",
    "\n",
    "img_out = widgets.Output(layout = {\n",
    "            'width': '100%',\n",
    "#             'height': '400px',\n",
    "            'border': '1px solid black'\n",
    "        })\n",
    "\n",
    "score_out = widgets.Output(layout = {\n",
    "#             'width': '100%',\n",
    "#             'height': '600px',\n",
    "            'border': '1px solid black'\n",
    "        })\n",
    "\n",
    "def get_hole_data(Hole, Stroke, Round, Flag_Loc, Score1, Score2, Score3, Include_Shots, Include_Flag_Locs, Include_Flag_Prox, Include_Spray, Quick_Render):\n",
    "    global use_plotly, quick_render\n",
    "    global ax, pty\n",
    "        \n",
    "    plot_bool = use_plotly and (not quick_render.value)\n",
    "            \n",
    "    with score_out:\n",
    "        try:\n",
    "            df = s.as_df(Hole, None, None, None, flag_loc=Flag_Loc)\n",
    "            score_avg = pd.pivot_table(df, values='score', index=['hole'], columns=['flag_loc'], aggfunc=(np.mean, np.std)).round(2)\n",
    "            hole_prox = pd.pivot_table(df, values='prox', index=['stroke'], columns=['flag_loc', 'score'], aggfunc=(np.mean, np.std)).round(0).fillna(\"--\")\n",
    "\n",
    "        except Exception as e:\n",
    "            score_avg = pd.DataFrame({})\n",
    "            hole_prox = pd.DataFrame({})\n",
    "        \n",
    "        score_out.clear_output()\n",
    "        display(\n",
    "            widgets.Label(value=\"Hole & Pin Scoring\"), score_avg, \n",
    "            widgets.Label(value=\"Stroke to Score Proximity\"), hole_prox,\n",
    "        )\n",
    "    with img_out:\n",
    "        hole_path = s.get_hole_img_path(Hole)\n",
    "        if hole_path is not None:\n",
    "            file = open(hole_path, \"rb\")\n",
    "            image = file.read()\n",
    "            hole_img = widgets.Image(\n",
    "                value=image,\n",
    "                format='jpeg',\n",
    "            )\n",
    "            img_out.clear_output()\n",
    "            display(hole_img)\n",
    "        \n",
    "    with graph_out:\n",
    "        if plot_bool:\n",
    "            fig = pty\n",
    "            fig.data = []\n",
    "        else:\n",
    "            fig = ax\n",
    "            fig.cla()\n",
    "        \n",
    "        s.set_base_df(Hole, Flag_Loc)\n",
    "\n",
    "        if Include_Flag_Locs:\n",
    "#             try:\n",
    "            fig = s.plot_flag_loc(fig, Hole, plotly=plot_bool)\n",
    "#             except:\n",
    "#                 pass\n",
    "\n",
    "        if Include_Flag_Prox:\n",
    "            fig = s.plot_shot_proximity(fig, Hole, Stroke, None, Round, Flag_Loc, plotly=plot_bool) \n",
    "            \n",
    "\n",
    "        for score_val in [Score1, Score2, Score3]:\n",
    "            if Include_Shots:\n",
    "                try:\n",
    "                    fig = s.plot_hole(fig, Hole, Stroke, score_val, Round, Flag_Loc, plotly=plot_bool)\n",
    "                except:\n",
    "                    pass\n",
    "\n",
    "            if score_val is None:\n",
    "                continue\n",
    "            try:\n",
    "                fig = s.plot_hole_distribution(fig, Hole, Stroke, score_val, Round, Flag_Loc, N=50, plotly=plot_bool)\n",
    "            except:\n",
    "                pass\n",
    "            \n",
    "            if Include_Spray:\n",
    "                try:\n",
    "                    fig = s.plot_shot_distribution(fig, Hole, Stroke, score_val, Round, Flag_Loc, plotly=plot_bool) \n",
    "                except:\n",
    "                    pass\n",
    "\n",
    "\n",
    "        graph_out.clear_output()\n",
    "        if plot_bool:\n",
    "            fig.layout.mapbox.center[\"lat\"] = s.as_df(Hole).lat.mean()\n",
    "            fig.layout.mapbox.center[\"lon\"] = s.as_df(Hole).lon.mean()\n",
    "            display(fig)   \n",
    "        else:\n",
    "            fig.grid()\n",
    "            fig.axis('equal')\n",
    "            display(mpl.canvas)\n",
    "    \n",
    "    return graph_out, score_out\n",
    "\n",
    "hole=widgets.Dropdown(\n",
    "    options=holes,\n",
    "    description='Hole:',\n",
    "    disabled=False,\n",
    "    value=1,\n",
    ")\n",
    "\n",
    "score1=widgets.Dropdown(\n",
    "    options=scores,\n",
    "    description='Score 1:',\n",
    "    disabled=False,        \n",
    "    value=None,\n",
    ")\n",
    "\n",
    "score2=widgets.Dropdown(\n",
    "    options=scores,\n",
    "    description='Score 2:',\n",
    "    disabled=False,\n",
    "    value=None,\n",
    ")\n",
    "\n",
    "score3=widgets.Dropdown(\n",
    "    options=scores,\n",
    "    description='Score 3:',\n",
    "    disabled=True,\n",
    "    value=None,\n",
    ")\n",
    "stroke=widgets.Dropdown(\n",
    "    options=strokes,\n",
    "    description='Stroke:',\n",
    "    disabled=False,\n",
    "    value='all',\n",
    ")\n",
    "\n",
    "t_round=widgets.Dropdown(\n",
    "    options=rounds,\n",
    "    description='Round:',\n",
    "    disabled=True,\n",
    "    value='all',\n",
    ")\n",
    "\n",
    "flag=widgets.Dropdown(\n",
    "    options=flags,\n",
    "    description='Flag Position:',\n",
    "    disabled=False,\n",
    "    value='all',\n",
    ")\n",
    "\n",
    "inc_hole = widgets.Checkbox(\n",
    "    value=True,\n",
    "    description='Include Hole',\n",
    "    disabled=False\n",
    ")\n",
    "\n",
    "inc_flag = widgets.Checkbox(\n",
    "    value=False,\n",
    "    description='Include Flag Locations',\n",
    "    disabled=False\n",
    ")\n",
    "\n",
    "inc_prox = widgets.Checkbox(\n",
    "    value=False,\n",
    "    description='Include 95% Proximity',\n",
    "    disabled=False\n",
    ")\n",
    "\n",
    "inc_spread = widgets.Checkbox(\n",
    "    value=False,\n",
    "    description='Include Spread',\n",
    "    disabled=False\n",
    ")\n",
    "\n",
    "quick_render = widgets.Checkbox(\n",
    "    value=use_plotly,\n",
    "    description='Quick Render (No Map)',\n",
    "    disabled=not use_plotly\n",
    ")\n",
    "\n",
    "hole_data = widgets.interactive_output(\n",
    "    get_hole_data, \n",
    "    {\n",
    "        \"Hole\": hole, \n",
    "        \"Stroke\": stroke, \n",
    "        \"Round\": t_round, \n",
    "        \"Flag_Loc\": flag, \n",
    "        \"Score1\": score1, \n",
    "        \"Score2\": score2, \n",
    "        \"Score3\": score3, \n",
    "        \"Include_Shots\": inc_hole,\n",
    "        \"Include_Flag_Locs\": inc_flag,\n",
    "        \"Include_Flag_Prox\": inc_prox,\n",
    "        \"Include_Spray\": inc_spread,\n",
    "        \"Quick_Render\": quick_render,\n",
    "    }\n",
    ")\n",
    "\n",
    "input_boxes = widgets.VBox([quick_render, hole, stroke, t_round, flag, score1, score2, score3, inc_hole, inc_flag, inc_prox, inc_spread])"
   ]
  },
  {
   "cell_type": "markdown",
   "id": "swiss-correlation",
   "metadata": {},
   "source": [
    "### Tournament"
   ]
  },
  {
   "cell_type": "code",
   "execution_count": 17,
   "id": "crazy-therapist",
   "metadata": {},
   "outputs": [
    {
     "data": {
      "application/vnd.jupyter.widget-view+json": {
       "model_id": "3edaabde932e4e53b931013cfcd240d2",
       "version_major": 2,
       "version_minor": 0
      },
      "text/plain": [
       "HBox(children=(Dropdown(description='Tournament', index=8, options=('CareerBuilder Challenge in partnership wi…"
      ]
     },
     "metadata": {},
     "output_type": "display_data"
    }
   ],
   "source": [
    "display(widgets.HBox(tourn_data.children[:-1]))"
   ]
  },
  {
   "cell_type": "markdown",
   "id": "hawaiian-bidder",
   "metadata": {},
   "source": [
    "### Data"
   ]
  },
  {
   "cell_type": "code",
   "execution_count": 18,
   "id": "animal-stroke",
   "metadata": {
    "scrolled": true
   },
   "outputs": [
    {
     "data": {
      "application/vnd.jupyter.widget-view+json": {
       "model_id": "4157a8977b7d4c52ad64c851fea145a1",
       "version_major": 2,
       "version_minor": 0
      },
      "text/plain": [
       "HBox(children=(Output(layout=Layout(border='1px solid black', height='600px', width='80%'), outputs=({'output_…"
      ]
     },
     "metadata": {},
     "output_type": "display_data"
    }
   ],
   "source": [
    "display(widgets.HBox([graph_out, input_boxes]))"
   ]
  },
  {
   "cell_type": "code",
   "execution_count": 19,
   "id": "hired-edgar",
   "metadata": {},
   "outputs": [
    {
     "data": {
      "application/vnd.jupyter.widget-view+json": {
       "model_id": "3f113134a6754a42a671b33b1f2c8eea",
       "version_major": 2,
       "version_minor": 0
      },
      "text/plain": [
       "Output(layout=Layout(border='1px solid black', width='100%'), outputs=({'output_type': 'display_data', 'data':…"
      ]
     },
     "metadata": {},
     "output_type": "display_data"
    }
   ],
   "source": [
    "display(img_out)"
   ]
  },
  {
   "cell_type": "code",
   "execution_count": 20,
   "id": "junior-jonathan",
   "metadata": {},
   "outputs": [
    {
     "data": {
      "application/vnd.jupyter.widget-view+json": {
       "model_id": "9049619711fc419fb45b11ef4f177a2b",
       "version_major": 2,
       "version_minor": 0
      },
      "text/plain": [
       "Output(layout=Layout(border='1px solid black'), outputs=({'output_type': 'display_data', 'data': {'text/plain'…"
      ]
     },
     "metadata": {},
     "output_type": "display_data"
    }
   ],
   "source": [
    "display(score_out)"
   ]
  },
  {
   "cell_type": "code",
   "execution_count": 9,
   "id": "advanced-relative",
   "metadata": {},
   "outputs": [
    {
     "ename": "IndexError",
     "evalue": "list index out of range",
     "output_type": "error",
     "traceback": [
      "\u001b[0;31m-----------------------------------------------------------------\u001b[0m",
      "\u001b[0;31mIndexError\u001b[0m                      Traceback (most recent call last)",
      "\u001b[0;32m<ipython-input-9-e0de0d1d83b3>\u001b[0m in \u001b[0;36m<module>\u001b[0;34m\u001b[0m\n\u001b[0;32m----> 1\u001b[0;31m \u001b[0ms\u001b[0m\u001b[0;34m.\u001b[0m\u001b[0mset_base_df\u001b[0m\u001b[0;34m(\u001b[0m\u001b[0mhole\u001b[0m\u001b[0;34m.\u001b[0m\u001b[0mvalue\u001b[0m\u001b[0;34m,\u001b[0m \u001b[0mflag\u001b[0m\u001b[0;34m.\u001b[0m\u001b[0mvalue\u001b[0m\u001b[0;34m)\u001b[0m\u001b[0;34m\u001b[0m\u001b[0;34m\u001b[0m\u001b[0m\n\u001b[0m",
      "\u001b[0;32m/app/lib/ShotDistribution.py\u001b[0m in \u001b[0;36mset_base_df\u001b[0;34m(self, hole, flag_loc)\u001b[0m\n\u001b[1;32m    303\u001b[0m \u001b[0;34m\u001b[0m\u001b[0m\n\u001b[1;32m    304\u001b[0m     \u001b[0;32mdef\u001b[0m \u001b[0mset_base_df\u001b[0m\u001b[0;34m(\u001b[0m\u001b[0mself\u001b[0m\u001b[0;34m,\u001b[0m \u001b[0mhole\u001b[0m\u001b[0;34m=\u001b[0m\u001b[0;32mNone\u001b[0m\u001b[0;34m,\u001b[0m \u001b[0mflag_loc\u001b[0m\u001b[0;34m=\u001b[0m\u001b[0;32mNone\u001b[0m\u001b[0;34m)\u001b[0m\u001b[0;34m:\u001b[0m\u001b[0;34m\u001b[0m\u001b[0;34m\u001b[0m\u001b[0m\n\u001b[0;32m--> 305\u001b[0;31m         \u001b[0mself\u001b[0m\u001b[0;34m.\u001b[0m\u001b[0mbase_df\u001b[0m \u001b[0;34m=\u001b[0m \u001b[0mself\u001b[0m\u001b[0;34m.\u001b[0m\u001b[0mas_df\u001b[0m\u001b[0;34m(\u001b[0m\u001b[0mhole\u001b[0m\u001b[0;34m,\u001b[0m \u001b[0;32mNone\u001b[0m\u001b[0;34m,\u001b[0m \u001b[0;32mNone\u001b[0m\u001b[0;34m,\u001b[0m \u001b[0;32mNone\u001b[0m\u001b[0;34m,\u001b[0m \u001b[0mflag_loc\u001b[0m\u001b[0;34m)\u001b[0m\u001b[0;34m\u001b[0m\u001b[0;34m\u001b[0m\u001b[0m\n\u001b[0m\u001b[1;32m    306\u001b[0m \u001b[0;34m\u001b[0m\u001b[0m\n\u001b[1;32m    307\u001b[0m     \u001b[0;32mdef\u001b[0m \u001b[0m__get_hole_par\u001b[0m\u001b[0;34m(\u001b[0m\u001b[0mself\u001b[0m\u001b[0;34m,\u001b[0m \u001b[0mhole\u001b[0m\u001b[0;34m)\u001b[0m\u001b[0;34m:\u001b[0m\u001b[0;34m\u001b[0m\u001b[0;34m\u001b[0m\u001b[0m\n",
      "\u001b[0;32m/app/lib/ShotDistribution.py\u001b[0m in \u001b[0;36mas_df\u001b[0;34m(self, hole, t_round, stroke, score, flag_loc)\u001b[0m\n\u001b[1;32m    295\u001b[0m         \u001b[0;31m# If we have just one hole, filter by stroke and score\u001b[0m\u001b[0;34m\u001b[0m\u001b[0;34m\u001b[0m\u001b[0;34m\u001b[0m\u001b[0m\n\u001b[1;32m    296\u001b[0m         \u001b[0;32mif\u001b[0m \u001b[0mlen\u001b[0m\u001b[0;34m(\u001b[0m\u001b[0mall_holes\u001b[0m\u001b[0;34m)\u001b[0m \u001b[0;34m==\u001b[0m \u001b[0;36m1\u001b[0m\u001b[0;34m:\u001b[0m\u001b[0;34m\u001b[0m\u001b[0;34m\u001b[0m\u001b[0m\n\u001b[0;32m--> 297\u001b[0;31m             \u001b[0mstroke\u001b[0m \u001b[0;34m=\u001b[0m \u001b[0mself\u001b[0m\u001b[0;34m.\u001b[0m\u001b[0m__get_stroke_list\u001b[0m\u001b[0;34m(\u001b[0m\u001b[0mall_holes\u001b[0m\u001b[0;34m[\u001b[0m\u001b[0;36m0\u001b[0m\u001b[0;34m]\u001b[0m\u001b[0;34m,\u001b[0m \u001b[0mstroke\u001b[0m\u001b[0;34m)\u001b[0m\u001b[0;34m\u001b[0m\u001b[0;34m\u001b[0m\u001b[0m\n\u001b[0m\u001b[1;32m    298\u001b[0m             \u001b[0mscore\u001b[0m \u001b[0;34m=\u001b[0m \u001b[0mself\u001b[0m\u001b[0;34m.\u001b[0m\u001b[0m__get_score_list\u001b[0m\u001b[0;34m(\u001b[0m\u001b[0mall_holes\u001b[0m\u001b[0;34m[\u001b[0m\u001b[0;36m0\u001b[0m\u001b[0;34m]\u001b[0m\u001b[0;34m,\u001b[0m \u001b[0mscore\u001b[0m\u001b[0;34m)\u001b[0m\u001b[0;34m\u001b[0m\u001b[0;34m\u001b[0m\u001b[0m\n\u001b[1;32m    299\u001b[0m \u001b[0;34m\u001b[0m\u001b[0m\n",
      "\u001b[0;32m/app/lib/ShotDistribution.py\u001b[0m in \u001b[0;36m__get_stroke_list\u001b[0;34m(self, hole, stroke)\u001b[0m\n\u001b[1;32m    333\u001b[0m \u001b[0;34m\u001b[0m\u001b[0m\n\u001b[1;32m    334\u001b[0m     \u001b[0;32mdef\u001b[0m \u001b[0m__get_stroke_list\u001b[0m\u001b[0;34m(\u001b[0m\u001b[0mself\u001b[0m\u001b[0;34m,\u001b[0m \u001b[0mhole\u001b[0m\u001b[0;34m,\u001b[0m \u001b[0mstroke\u001b[0m\u001b[0;34m)\u001b[0m\u001b[0;34m:\u001b[0m\u001b[0;34m\u001b[0m\u001b[0;34m\u001b[0m\u001b[0m\n\u001b[0;32m--> 335\u001b[0;31m         \u001b[0mpar\u001b[0m \u001b[0;34m=\u001b[0m \u001b[0mself\u001b[0m\u001b[0;34m.\u001b[0m\u001b[0m__get_hole_par\u001b[0m\u001b[0;34m(\u001b[0m\u001b[0mhole\u001b[0m\u001b[0;34m)\u001b[0m\u001b[0;34m\u001b[0m\u001b[0;34m\u001b[0m\u001b[0m\n\u001b[0m\u001b[1;32m    336\u001b[0m         \u001b[0;32mif\u001b[0m \u001b[0mstroke\u001b[0m \u001b[0;32mis\u001b[0m \u001b[0;32mNone\u001b[0m\u001b[0;34m:\u001b[0m\u001b[0;34m\u001b[0m\u001b[0;34m\u001b[0m\u001b[0m\n\u001b[1;32m    337\u001b[0m             \u001b[0mstroke\u001b[0m \u001b[0;34m=\u001b[0m \u001b[0;34m\"all\"\u001b[0m\u001b[0;34m\u001b[0m\u001b[0;34m\u001b[0m\u001b[0m\n",
      "\u001b[0;32m/app/lib/ShotDistribution.py\u001b[0m in \u001b[0;36m__get_hole_par\u001b[0;34m(self, hole)\u001b[0m\n\u001b[1;32m    306\u001b[0m \u001b[0;34m\u001b[0m\u001b[0m\n\u001b[1;32m    307\u001b[0m     \u001b[0;32mdef\u001b[0m \u001b[0m__get_hole_par\u001b[0m\u001b[0;34m(\u001b[0m\u001b[0mself\u001b[0m\u001b[0;34m,\u001b[0m \u001b[0mhole\u001b[0m\u001b[0;34m)\u001b[0m\u001b[0;34m:\u001b[0m\u001b[0;34m\u001b[0m\u001b[0;34m\u001b[0m\u001b[0m\n\u001b[0;32m--> 308\u001b[0;31m         \u001b[0;32mreturn\u001b[0m \u001b[0mlist\u001b[0m\u001b[0;34m(\u001b[0m\u001b[0mself\u001b[0m\u001b[0;34m.\u001b[0m\u001b[0m__course_par\u001b[0m\u001b[0;34m.\u001b[0m\u001b[0mvalues\u001b[0m\u001b[0;34m(\u001b[0m\u001b[0;34m)\u001b[0m\u001b[0;34m)\u001b[0m\u001b[0;34m[\u001b[0m\u001b[0;36m0\u001b[0m\u001b[0;34m]\u001b[0m\u001b[0;34m.\u001b[0m\u001b[0mget\u001b[0m\u001b[0;34m(\u001b[0m\u001b[0mhole\u001b[0m\u001b[0;34m)\u001b[0m\u001b[0;34m\u001b[0m\u001b[0;34m\u001b[0m\u001b[0m\n\u001b[0m\u001b[1;32m    309\u001b[0m \u001b[0;34m\u001b[0m\u001b[0m\n\u001b[1;32m    310\u001b[0m     \u001b[0;32mdef\u001b[0m \u001b[0m__get_round_list\u001b[0m\u001b[0;34m(\u001b[0m\u001b[0mself\u001b[0m\u001b[0;34m,\u001b[0m \u001b[0mt_round\u001b[0m\u001b[0;34m)\u001b[0m\u001b[0;34m:\u001b[0m\u001b[0;34m\u001b[0m\u001b[0;34m\u001b[0m\u001b[0m\n",
      "\u001b[0;31mIndexError\u001b[0m: list index out of range"
     ]
    }
   ],
   "source": []
  },
  {
   "cell_type": "code",
   "execution_count": null,
   "id": "colored-hormone",
   "metadata": {},
   "outputs": [],
   "source": []
  },
  {
   "cell_type": "code",
   "execution_count": 10,
   "id": "digital-aquarium",
   "metadata": {},
   "outputs": [
    {
     "data": {
      "text/plain": [
       "(1, 'all')"
      ]
     },
     "execution_count": 10,
     "metadata": {},
     "output_type": "execute_result"
    }
   ],
   "source": []
  },
  {
   "cell_type": "code",
   "execution_count": 11,
   "id": "sweet-payment",
   "metadata": {},
   "outputs": [
    {
     "data": {
      "text/plain": [
       "{}"
      ]
     },
     "execution_count": 11,
     "metadata": {},
     "output_type": "execute_result"
    }
   ],
   "source": [
    "s._ShotDistribution__course_par"
   ]
  },
  {
   "cell_type": "code",
   "execution_count": 42,
   "id": "emotional-turkey",
   "metadata": {},
   "outputs": [
    {
     "name": "stdout",
     "output_type": "stream",
     "text": [
      "True\n",
      "True\n",
      "True\n"
     ]
    }
   ],
   "source": [
    "import os\n",
    "hole=1\n",
    "hole_file_name = \"0{}_full.jpg\".format(hole)\n",
    "        \n",
    "ROOT_DIR = os.getenv(\"ROOT_DATA_DIR\", \"./third_party/pga-golf-data/data/\")\n",
    "tourn_id = s._ShotDistribution__get_tournament_id(s.name)\n",
    "tourn_dir = ROOT_DIR + \"tournaments/{}/\".format(tourn_id)\n",
    "for year in [2015, 2016, 2017]:\n",
    "    year_dir = tourn_dir + \"{}/\".format(year) \n",
    "    course_dir = year_dir + \"course/\" + tourn_id + \"/holes/\"\n",
    "    hole_dir = course_dir + hole_file_name\n",
    "    print(os.path.exists(hole_dir))"
   ]
  },
  {
   "cell_type": "code",
   "execution_count": 38,
   "id": "extensive-technology",
   "metadata": {},
   "outputs": [
    {
     "data": {
      "application/vnd.jupyter.widget-view+json": {
       "model_id": "3eba75ed634b4198b0a2c7a6007a34d6",
       "version_major": 2,
       "version_minor": 0
      },
      "text/plain": [
       "Image(value=b'\\xff\\xd8\\xff\\xe0\\x00\\x10JFIF\\x00\\x01\\x01\\x00\\x00\\x1c\\x00\\x1c\\x00\\x00\\xff\\xdb\\x00C\\x00\\x03\\x02\\x0…"
      ]
     },
     "metadata": {},
     "output_type": "display_data"
    }
   ],
   "source": [
    "file = open(hole_dir, \"rb\")\n",
    "image = file.read()\n",
    "widgets.Image(\n",
    "    value=image,\n",
    "    format='jpeg',\n",
    "    width=300,\n",
    "    height=400,\n",
    ")"
   ]
  },
  {
   "cell_type": "code",
   "execution_count": null,
   "id": "textile-movie",
   "metadata": {},
   "outputs": [],
   "source": []
  },
  {
   "cell_type": "code",
   "execution_count": 39,
   "id": "essential-house",
   "metadata": {},
   "outputs": [
    {
     "ename": "TypeError",
     "evalue": "'>' not supported between instances of 'int' and 'str'",
     "output_type": "error",
     "traceback": [
      "\u001b[0;31m---------------------------------------------------------------------------\u001b[0m",
      "\u001b[0;31mTypeError\u001b[0m                                 Traceback (most recent call last)",
      "\u001b[0;32m<ipython-input-39-679f46835e9c>\u001b[0m in \u001b[0;36m<module>\u001b[0;34m\u001b[0m\n\u001b[0;32m----> 1\u001b[0;31m \u001b[0mmax\u001b[0m\u001b[0;34m(\u001b[0m\u001b[0;34m[\u001b[0m\u001b[0;34m'a'\u001b[0m\u001b[0;34m,\u001b[0m \u001b[0;36m1\u001b[0m\u001b[0;34m,\u001b[0m \u001b[0;36m2\u001b[0m\u001b[0;34m,\u001b[0m \u001b[0;36m4\u001b[0m\u001b[0;34m]\u001b[0m\u001b[0;34m)\u001b[0m\u001b[0;34m\u001b[0m\u001b[0;34m\u001b[0m\u001b[0m\n\u001b[0m",
      "\u001b[0;31mTypeError\u001b[0m: '>' not supported between instances of 'int' and 'str'"
     ]
    }
   ],
   "source": [
    "max(['a', 1, 2, 4])"
   ]
  },
  {
   "cell_type": "code",
   "execution_count": null,
   "id": "anticipated-merchant",
   "metadata": {},
   "outputs": [],
   "source": []
  }
 ],
 "metadata": {
  "kernelspec": {
   "display_name": "Python 3",
   "language": "python",
   "name": "python3"
  },
  "language_info": {
   "codemirror_mode": {
    "name": "ipython",
    "version": 3
   },
   "file_extension": ".py",
   "mimetype": "text/x-python",
   "name": "python",
   "nbconvert_exporter": "python",
   "pygments_lexer": "ipython3",
   "version": "3.8.7"
  }
 },
 "nbformat": 4,
 "nbformat_minor": 5
}
