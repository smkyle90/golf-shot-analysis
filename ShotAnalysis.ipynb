{
 "cells": [
  {
   "cell_type": "code",
   "execution_count": 1,
   "id": "competitive-royalty",
   "metadata": {},
   "outputs": [],
   "source": [
    "%matplotlib widget\n",
    "from lib import get_tournament_list, get_season_list, ShotDistribution\n",
    "import ipywidgets as widgets\n",
    "from IPython.display import display\n",
    "import numpy as np\n",
    "import matplotlib.pyplot as plt\n",
    "import plotly.graph_objects as go\n",
    "import yaml\n",
    "import pandas as pd\n",
    "\n",
    "with open(\"./configs/course_coords.yml\", \"r\") as f:\n",
    "    course_points = yaml.safe_load(f)"
   ]
  },
  {
   "cell_type": "code",
   "execution_count": 2,
   "id": "pleasant-atlas",
   "metadata": {
    "scrolled": true
   },
   "outputs": [],
   "source": [
    "tourns = get_tournament_list()\n",
    "seasons = get_season_list()\n",
    "strokes=[1, 2, 3, 4, 5, 'all', 'drive', 'approach']\n",
    "scores=[None, 'sub', 'par', 'over', 1, 2, 3, 4, 5, 6, 7, 8, 'all']\n",
    "holes=[i+1 for i in range(18)]\n",
    "rounds=[1, 2, 3, 4, 'all']\n",
    "flags=[1, 2, 3, 4, 'all']\n",
    "\n",
    "plt.ioff()\n",
    "mpl = plt.figure(tight_layout=True)\n",
    "ax = mpl.add_subplot(111)\n",
    "mpl.canvas.toolbar_visible = True\n",
    "mpl.canvas.header_visible = False # Hide the Figure name at the top of the figure\n",
    "mpl.canvas.footer_visible = False\n",
    "mpl.canvas.resizable = True\n",
    "mpl.canvas.capture_scroll = False\n",
    "plt.ion()\n",
    "\n",
    "pty = go.Figure()\n",
    "pty.update_layout(\n",
    "    mapbox_style=\"white-bg\",\n",
    "    mapbox_layers=[\n",
    "        {\n",
    "            \"below\": 'traces',\n",
    "            \"sourcetype\": \"raster\",\n",
    "            \"sourceattribution\": \"United States Geological Survey\",\n",
    "            \"source\": [\n",
    "                \"https://basemap.nationalmap.gov/arcgis/rest/services/USGSImageryOnly/MapServer/tile/{z}/{y}/{x}\"\n",
    "            ]\n",
    "        },\n",
    "    ],\n",
    "    mapbox=dict(\n",
    "        center=go.layout.mapbox.Center(\n",
    "        lat=33.64,\n",
    "        lon=-111.912,\n",
    "        ),\n",
    "        zoom=16,\n",
    "    ),\n",
    "    margin={\"r\":0,\"t\":0,\"l\":0,\"b\":0},\n",
    ")\n",
    "\n",
    "s = ShotDistribution()\n",
    "use_plotly = False"
   ]
  },
  {
   "cell_type": "code",
   "execution_count": 3,
   "id": "continuous-solution",
   "metadata": {},
   "outputs": [],
   "source": [
    "def get_tourn_data(Tournament, Season):\n",
    "    global s, use_plotly, quick_render\n",
    "    try:\n",
    "        if Season == 'all':\n",
    "            s.generate_distribution(Tournament, course_points[\"COURSE_POINTS\"])\n",
    "        else:\n",
    "            s.generate_distribution(Tournament, course_points[\"COURSE_POINTS\"], Season)\n",
    "        use_plotly=True\n",
    "        quick_render.value = True\n",
    "        quick_render.disabled = False\n",
    "    except Exception as e:\n",
    "        print(e)\n",
    "        print(\"Entering calibration mode.\")\n",
    "        s.generate_distribution(Tournament)\n",
    "        quick_render.value = True\n",
    "        quick_render.disabled = True\n",
    "        \n",
    "tourn_data = widgets.interactive(get_tourn_data, Tournament=tourns, Season=seasons)"
   ]
  },
  {
   "cell_type": "code",
   "execution_count": 4,
   "id": "expanded-progressive",
   "metadata": {
    "scrolled": false
   },
   "outputs": [],
   "source": [
    "graph_out = widgets.Output(layout = {\n",
    "            'width': '80%',\n",
    "            'height': '600px',\n",
    "            'border': '1px solid black'\n",
    "        })\n",
    "\n",
    "score_out = widgets.Output(layout = {\n",
    "#             'width': '100%',\n",
    "#             'height': '600px',\n",
    "            'border': '1px solid black'\n",
    "        })\n",
    "\n",
    "def get_hole_data(Hole, Stroke, Round, Flag_Loc, Score1, Score2, Score3, Include_Shots, Include_Flag_Locs, Include_Flag_Prox, Include_Spray, Quick_Render):\n",
    "    global use_plotly, quick_render\n",
    "    global ax, pty\n",
    "        \n",
    "    plot_bool = use_plotly and (not quick_render.value)\n",
    "    \n",
    "    if plot_bool:\n",
    "        fig = pty\n",
    "        fig.data = []\n",
    "    else:\n",
    "        fig = ax\n",
    "        fig.cla()\n",
    "        \n",
    "    with score_out:\n",
    "        score_out.clear_output()\n",
    "        try:\n",
    "            df = s.as_df(Hole, None, None, None, flag_loc=Flag_Loc)\n",
    "            score_avg = pd.pivot_table(df, values='score', index=['hole'], columns=['flag_loc'], aggfunc=(np.mean, np.std)).round(2)\n",
    "            hole_prox = pd.pivot_table(df, values='prox', index=['stroke'], columns=['flag_loc', 'score'], aggfunc=(np.mean, np.std)).round(0).fillna(\"--\")\n",
    "\n",
    "        except Exception as e:\n",
    "            score_avg = pd.DataFrame({})\n",
    "            hole_prox = pd.DataFrame({})\n",
    "\n",
    "        display(\n",
    "            widgets.Label(value=\"Hole & Pin Scoring\"), score_avg, \n",
    "            widgets.Label(value=\"Stroke to Score Proximity\"), hole_prox,\n",
    "        )\n",
    "        \n",
    "    with graph_out:\n",
    "        graph_out.clear_output()\n",
    "\n",
    "        if Include_Flag_Locs:\n",
    "#             try:\n",
    "            fig = s.plot_flag_loc(fig, Hole, plotly=plot_bool)\n",
    "#             except:\n",
    "#                 pass\n",
    "\n",
    "        if Include_Flag_Prox:\n",
    "            fig = s.plot_shot_proximity(fig, Hole, Stroke, None, Round, Flag_Loc, plotly=plot_bool) \n",
    "            \n",
    "\n",
    "        for score_val in [Score1, Score2, Score3]:\n",
    "            if Include_Shots:\n",
    "                try:\n",
    "                    fig = s.plot_hole(fig, Hole, Stroke, score_val, Round, Flag_Loc, plotly=plot_bool)\n",
    "                except:\n",
    "                    pass\n",
    "\n",
    "            if score_val is None:\n",
    "                continue\n",
    "            try:\n",
    "                fig = s.plot_hole_distribution(fig, Hole, Stroke, score_val, Round, Flag_Loc, N=50, plotly=plot_bool)\n",
    "            except:\n",
    "                pass\n",
    "            \n",
    "            if Include_Spray:\n",
    "                try:\n",
    "                    fig = s.plot_shot_distribution(fig, Hole, Stroke, score_val, Round, Flag_Loc, plotly=plot_bool) \n",
    "                except:\n",
    "                    pass\n",
    "\n",
    "\n",
    "\n",
    "        if plot_bool:\n",
    "            fig.layout.mapbox.center[\"lat\"] = s.as_df(Hole).lat.mean()\n",
    "            fig.layout.mapbox.center[\"lon\"] = s.as_df(Hole).lon.mean()\n",
    "            display(fig)   \n",
    "        else:\n",
    "            fig.grid()\n",
    "            fig.axis('equal')\n",
    "            display(mpl.canvas)\n",
    "    \n",
    "    return graph_out, score_out\n",
    "\n",
    "hole=widgets.Dropdown(\n",
    "    options=holes,\n",
    "    description='Hole:',\n",
    "    disabled=False,\n",
    "    value=1,\n",
    ")\n",
    "\n",
    "score1=widgets.Dropdown(\n",
    "    options=scores,\n",
    "    description='Score 1:',\n",
    "    disabled=False,        \n",
    "    value=None,\n",
    ")\n",
    "\n",
    "score2=widgets.Dropdown(\n",
    "    options=scores,\n",
    "    description='Score 2:',\n",
    "    disabled=False,\n",
    "    value=None,\n",
    ")\n",
    "\n",
    "score3=widgets.Dropdown(\n",
    "    options=scores,\n",
    "    description='Score 3:',\n",
    "    disabled=True,\n",
    "    value=None,\n",
    ")\n",
    "stroke=widgets.Dropdown(\n",
    "    options=strokes,\n",
    "    description='Stroke:',\n",
    "    disabled=False,\n",
    "    value='all',\n",
    ")\n",
    "\n",
    "t_round=widgets.Dropdown(\n",
    "    options=rounds,\n",
    "    description='Round:',\n",
    "    disabled=True,\n",
    "    value='all',\n",
    ")\n",
    "\n",
    "flag=widgets.Dropdown(\n",
    "    options=flags,\n",
    "    description='Flag Position:',\n",
    "    disabled=False,\n",
    "    value='all',\n",
    ")\n",
    "\n",
    "inc_hole = widgets.Checkbox(\n",
    "    value=True,\n",
    "    description='Include Hole',\n",
    "    disabled=False\n",
    ")\n",
    "\n",
    "inc_flag = widgets.Checkbox(\n",
    "    value=False,\n",
    "    description='Include Flag Locations',\n",
    "    disabled=False\n",
    ")\n",
    "\n",
    "inc_prox = widgets.Checkbox(\n",
    "    value=False,\n",
    "    description='Include 95% Proximity',\n",
    "    disabled=False\n",
    ")\n",
    "\n",
    "inc_spread = widgets.Checkbox(\n",
    "    value=False,\n",
    "    description='Include Spread',\n",
    "    disabled=False\n",
    ")\n",
    "\n",
    "quick_render = widgets.Checkbox(\n",
    "    value=use_plotly,\n",
    "    description='Quick Render (No Map)',\n",
    "    disabled=not use_plotly\n",
    ")\n",
    "\n",
    "hole_data = widgets.interactive_output(\n",
    "    get_hole_data, \n",
    "    {\n",
    "        \"Hole\": hole, \n",
    "        \"Stroke\": stroke, \n",
    "        \"Round\": t_round, \n",
    "        \"Flag_Loc\": flag, \n",
    "        \"Score1\": score1, \n",
    "        \"Score2\": score2, \n",
    "        \"Score3\": score3, \n",
    "        \"Include_Shots\": inc_hole,\n",
    "        \"Include_Flag_Locs\": inc_flag,\n",
    "        \"Include_Flag_Prox\": inc_prox,\n",
    "        \"Include_Spray\": inc_spread,\n",
    "        \"Quick_Render\": quick_render,\n",
    "    }\n",
    ")\n",
    "\n",
    "input_boxes = widgets.VBox([quick_render, hole, stroke, t_round, flag, score1, score2, score3, inc_hole, inc_flag, inc_prox, inc_spread])"
   ]
  },
  {
   "cell_type": "markdown",
   "id": "swiss-correlation",
   "metadata": {},
   "source": [
    "### Tournament"
   ]
  },
  {
   "cell_type": "code",
   "execution_count": 5,
   "id": "crazy-therapist",
   "metadata": {},
   "outputs": [
    {
     "data": {
      "application/vnd.jupyter.widget-view+json": {
       "model_id": "22b38462fb6a44fea25340794715a7d8",
       "version_major": 2,
       "version_minor": 0
      },
      "text/plain": [
       "HBox(children=(Dropdown(description='Tournament', options=('CareerBuilder Challenge in partnership with the Cl…"
      ]
     },
     "metadata": {},
     "output_type": "display_data"
    }
   ],
   "source": [
    "display(widgets.HBox(tourn_data.children[:-1]))"
   ]
  },
  {
   "cell_type": "markdown",
   "id": "hawaiian-bidder",
   "metadata": {},
   "source": [
    "### Data"
   ]
  },
  {
   "cell_type": "code",
   "execution_count": 6,
   "id": "animal-stroke",
   "metadata": {
    "scrolled": true
   },
   "outputs": [
    {
     "data": {
      "application/vnd.jupyter.widget-view+json": {
       "model_id": "6db436846a794e3d99833ef0ba4a54a3",
       "version_major": 2,
       "version_minor": 0
      },
      "text/plain": [
       "HBox(children=(Output(layout=Layout(border='1px solid black', height='600px', width='80%'), outputs=({'output_…"
      ]
     },
     "metadata": {},
     "output_type": "display_data"
    }
   ],
   "source": [
    "display(widgets.HBox([graph_out, input_boxes]))"
   ]
  },
  {
   "cell_type": "code",
   "execution_count": 7,
   "id": "junior-jonathan",
   "metadata": {},
   "outputs": [
    {
     "data": {
      "application/vnd.jupyter.widget-view+json": {
       "model_id": "2c9b3ac90c614b42a0c4a3433d9902ff",
       "version_major": 2,
       "version_minor": 0
      },
      "text/plain": [
       "Output(layout=Layout(border='1px solid black'), outputs=({'output_type': 'display_data', 'data': {'text/plain'…"
      ]
     },
     "metadata": {},
     "output_type": "display_data"
    }
   ],
   "source": [
    "display(score_out)"
   ]
  },
  {
   "cell_type": "code",
   "execution_count": null,
   "id": "advanced-relative",
   "metadata": {},
   "outputs": [],
   "source": []
  }
 ],
 "metadata": {
  "kernelspec": {
   "display_name": "Python 3",
   "language": "python",
   "name": "python3"
  },
  "language_info": {
   "codemirror_mode": {
    "name": "ipython",
    "version": 3
   },
   "file_extension": ".py",
   "mimetype": "text/x-python",
   "name": "python",
   "nbconvert_exporter": "python",
   "pygments_lexer": "ipython3",
   "version": "3.8.7"
  }
 },
 "nbformat": 4,
 "nbformat_minor": 5
}
